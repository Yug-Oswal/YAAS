{
  "nbformat": 4,
  "nbformat_minor": 0,
  "metadata": {
    "colab": {
      "provenance": [],
      "authorship_tag": "ABX9TyPv3mRyZkneatayz4x+7jPk",
      "include_colab_link": true
    },
    "kernelspec": {
      "name": "python3",
      "display_name": "Python 3"
    },
    "language_info": {
      "name": "python"
    }
  },
  "cells": [
    {
      "cell_type": "markdown",
      "metadata": {
        "id": "view-in-github",
        "colab_type": "text"
      },
      "source": [
        "<a href=\"https://colab.research.google.com/github/Yug-Oswal/YAAS/blob/master/JobTransRating.ipynb\" target=\"_parent\"><img src=\"https://colab.research.google.com/assets/colab-badge.svg\" alt=\"Open In Colab\"/></a>"
      ]
    },
    {
      "cell_type": "code",
      "execution_count": 5,
      "metadata": {
        "colab": {
          "base_uri": "https://localhost:8080/"
        },
        "id": "huo-uXUOebKr",
        "outputId": "0514481f-1aa6-4ab7-9344-c789870f2eba"
      },
      "outputs": [
        {
          "output_type": "stream",
          "name": "stdout",
          "text": [
            "Looking in indexes: https://pypi.org/simple, https://us-python.pkg.dev/colab-wheels/public/simple/\n",
            "Requirement already satisfied: transformers in /usr/local/lib/python3.10/dist-packages (4.29.2)\n",
            "Requirement already satisfied: filelock in /usr/local/lib/python3.10/dist-packages (from transformers) (3.12.0)\n",
            "Requirement already satisfied: huggingface-hub<1.0,>=0.14.1 in /usr/local/lib/python3.10/dist-packages (from transformers) (0.15.1)\n",
            "Requirement already satisfied: numpy>=1.17 in /usr/local/lib/python3.10/dist-packages (from transformers) (1.22.4)\n",
            "Requirement already satisfied: packaging>=20.0 in /usr/local/lib/python3.10/dist-packages (from transformers) (23.1)\n",
            "Requirement already satisfied: pyyaml>=5.1 in /usr/local/lib/python3.10/dist-packages (from transformers) (6.0)\n",
            "Requirement already satisfied: regex!=2019.12.17 in /usr/local/lib/python3.10/dist-packages (from transformers) (2022.10.31)\n",
            "Requirement already satisfied: requests in /usr/local/lib/python3.10/dist-packages (from transformers) (2.27.1)\n",
            "Requirement already satisfied: tokenizers!=0.11.3,<0.14,>=0.11.1 in /usr/local/lib/python3.10/dist-packages (from transformers) (0.13.3)\n",
            "Requirement already satisfied: tqdm>=4.27 in /usr/local/lib/python3.10/dist-packages (from transformers) (4.65.0)\n",
            "Requirement already satisfied: fsspec in /usr/local/lib/python3.10/dist-packages (from huggingface-hub<1.0,>=0.14.1->transformers) (2023.4.0)\n",
            "Requirement already satisfied: typing-extensions>=3.7.4.3 in /usr/local/lib/python3.10/dist-packages (from huggingface-hub<1.0,>=0.14.1->transformers) (4.5.0)\n",
            "Requirement already satisfied: urllib3<1.27,>=1.21.1 in /usr/local/lib/python3.10/dist-packages (from requests->transformers) (1.26.15)\n",
            "Requirement already satisfied: certifi>=2017.4.17 in /usr/local/lib/python3.10/dist-packages (from requests->transformers) (2022.12.7)\n",
            "Requirement already satisfied: charset-normalizer~=2.0.0 in /usr/local/lib/python3.10/dist-packages (from requests->transformers) (2.0.12)\n",
            "Requirement already satisfied: idna<4,>=2.5 in /usr/local/lib/python3.10/dist-packages (from requests->transformers) (3.4)\n"
          ]
        }
      ],
      "source": [
        "!pip install transformers\n",
        "\n",
        "from transformers import pipeline"
      ]
    },
    {
      "cell_type": "code",
      "source": [
        "pipe = pipeline(model=\"facebook/bart-large-mnli\")\n",
        "x = pipe(\"\"\"Anirudh Mishra\n",
        "github.com/anirudhgray | linkedin.com/in/anirudh-mishra | +919971817632 | anirudh04mishra@gmail.com\n",
        "EDUCATION\n",
        "Vellore Institute of Technology 2021 - 2025\n",
        "BTech. Computer Science and Engineering with Specialisation in Internet of Things CGPA = 9.21/10\n",
        "TECHNICAL SKILLS\n",
        "Languages: Javascript, Typescript, Python, C, Go\n",
        "Libraries/Frameworks: React, Vue, Svelte, Gatsby, Next.js, Node.js, Django (DRF), FastAPI, React Native\n",
        "Dev Tools: GitHub Actions, Docker, Postman\n",
        "Platforms: GitHub Pages, Vercel, Netlify, Heroku, Strapi\n",
        "Databases: PostgreSQL, MySQL, MongoDB\n",
        "Misc.: Agora (for webRTC), socket.io, Framer Motion, Algorand, phaser.js, Three.js, Tailwind, Storybook.js\n",
        "WORK EXPERIENCE\n",
        "Frontend Development Intern (React.js, Storybook.js, Strapi) September 2022 - December 2022\n",
        "reunion\n",
        "● Developed a zero-and-higher level UI-component library using Storybook.js in collaboration with a team, and\n",
        "set up a central styling control with data from Strapi. Created a subscription form for a real-estate info service.\n",
        "Software Development Intern (React.js, React Native, Shopify) May 2023 - Present\n",
        "Credanic\n",
        "● Built production-grade cross-platform mobile applications, and developed a Shopify store for an ecommerce\n",
        "platform.\n",
        "VOLUNTEERSHIP EXPERIENCE\n",
        "Core Member March 2022 - Present\n",
        "GDSC (Google Developer Student Clubs) VIT Vellore\n",
        "● Worked on projects and participated in hackathons as a part of the Tech domain.\n",
        "● Held informative sessions for students on topics such as socket programming.\n",
        "● Helped organise hackathons such as WomenTechies ‘22, ‘23 and DevJams ‘22.\n",
        "PROJECTS\n",
        "Frontend Developer (Next.js, redux, framer.motion) Jan 2023 - Feb 2023\n",
        "Riviera 2023 (Web) (GitHub, Live Site)\n",
        "● The website for one of the largest college fests in India, held at VIT, Vellore, with over 30,000 students from\n",
        "650+ colleges.\n",
        "Full Stack Developer (phaserjs, React.js, socket.io, redux, Node.js) Nov 2022 - Present\n",
        "Unnamed Meet App\n",
        "● An ongoing project which aims to combine a 2D virtual RPG-like game experience with traditional chat and\n",
        "video communication to facilitate immersive online meetings and gatherings.\n",
        "Frontend Developer (Svelte) May 2022 - August 2022\n",
        "Code2Doc Frontend (GitHub)\n",
        "● A web app built with a team of developers and designers for converting code files to documents with a single\n",
        "click. Developed a user-friendly and responsive PWA using in-house CSS and a handrolled drag-and-drop file\n",
        "interface. Made multiple API integrations.\n",
        "Frontend Developer (React.js, redux) April 2022 - August 2022\n",
        "GDSC Ideas Hub Frontend (GitHub, Live Site)\n",
        "● An idea discussion portal built for GDSC-VIT. I coordinated with a designer and a backend developer to build\n",
        "this site, which is designed to hold hundreds of ideas submitted by users, along with a status tracking, commenting and\n",
        "notification system. Developed a responsive web app using Google OAuth, Redux and integration with a CRUD API.\n",
        "Full Stack Developer (MERN Stack, Mantine) February 2022 - March 2022\n",
        "anibin. (GitHub)\n",
        "Full Stack Developer (Vue.js, PostgreSQL, Django) December 2021 - January 2022\n",
        "spaceQuery (GitHub)\"\"\", candidate_labels = [\"Cybersecurity Specialist\", \"UI/UX Developer\", \"Database Developer\", \"Product Manager\"], multi_label=True)\n",
        "\n",
        "print(\"Resume text:\\n\", x['sequence'])\n",
        "print(\"------------------------------------------------------------------------------------------------------\")\n",
        "for label, score in zip(x['labels'], x['scores']):\n",
        "  print(label, \":\")\n",
        "  print((score * 100) + ((len(x['labels']) - 1) * 10), \"%\")"
      ],
      "metadata": {
        "colab": {
          "base_uri": "https://localhost:8080/"
        },
        "id": "DEAB0bbIj-SS",
        "outputId": "a7ed2fe1-3ba8-4fa4-f3ed-5360a328667c"
      },
      "execution_count": 9,
      "outputs": [
        {
          "output_type": "stream",
          "name": "stdout",
          "text": [
            "Resume text:\n",
            " Anirudh Mishra\n",
            "github.com/anirudhgray | linkedin.com/in/anirudh-mishra | +919971817632 | anirudh04mishra@gmail.com\n",
            "EDUCATION\n",
            "Vellore Institute of Technology 2021 - 2025\n",
            "BTech. Computer Science and Engineering with Specialisation in Internet of Things CGPA = 9.21/10\n",
            "TECHNICAL SKILLS\n",
            "Languages: Javascript, Typescript, Python, C, Go\n",
            "Libraries/Frameworks: React, Vue, Svelte, Gatsby, Next.js, Node.js, Django (DRF), FastAPI, React Native\n",
            "Dev Tools: GitHub Actions, Docker, Postman\n",
            "Platforms: GitHub Pages, Vercel, Netlify, Heroku, Strapi\n",
            "Databases: PostgreSQL, MySQL, MongoDB\n",
            "Misc.: Agora (for webRTC), socket.io, Framer Motion, Algorand, phaser.js, Three.js, Tailwind, Storybook.js\n",
            "WORK EXPERIENCE\n",
            "Frontend Development Intern (React.js, Storybook.js, Strapi) September 2022 - December 2022\n",
            "reunion\n",
            "● Developed a zero-and-higher level UI-component library using Storybook.js in collaboration with a team, and\n",
            "set up a central styling control with data from Strapi. Created a subscription form for a real-estate info service.\n",
            "Software Development Intern (React.js, React Native, Shopify) May 2023 - Present\n",
            "Credanic\n",
            "● Built production-grade cross-platform mobile applications, and developed a Shopify store for an ecommerce\n",
            "platform.\n",
            "VOLUNTEERSHIP EXPERIENCE\n",
            "Core Member March 2022 - Present\n",
            "GDSC (Google Developer Student Clubs) VIT Vellore\n",
            "● Worked on projects and participated in hackathons as a part of the Tech domain.\n",
            "● Held informative sessions for students on topics such as socket programming.\n",
            "● Helped organise hackathons such as WomenTechies ‘22, ‘23 and DevJams ‘22.\n",
            "PROJECTS\n",
            "Frontend Developer (Next.js, redux, framer.motion) Jan 2023 - Feb 2023\n",
            "Riviera 2023 (Web) (GitHub, Live Site)\n",
            "● The website for one of the largest college fests in India, held at VIT, Vellore, with over 30,000 students from\n",
            "650+ colleges.\n",
            "Full Stack Developer (phaserjs, React.js, socket.io, redux, Node.js) Nov 2022 - Present\n",
            "Unnamed Meet App\n",
            "● An ongoing project which aims to combine a 2D virtual RPG-like game experience with traditional chat and\n",
            "video communication to facilitate immersive online meetings and gatherings.\n",
            "Frontend Developer (Svelte) May 2022 - August 2022\n",
            "Code2Doc Frontend (GitHub)\n",
            "● A web app built with a team of developers and designers for converting code files to documents with a single\n",
            "click. Developed a user-friendly and responsive PWA using in-house CSS and a handrolled drag-and-drop file\n",
            "interface. Made multiple API integrations.\n",
            "Frontend Developer (React.js, redux) April 2022 - August 2022\n",
            "GDSC Ideas Hub Frontend (GitHub, Live Site)\n",
            "● An idea discussion portal built for GDSC-VIT. I coordinated with a designer and a backend developer to build\n",
            "this site, which is designed to hold hundreds of ideas submitted by users, along with a status tracking, commenting and\n",
            "notification system. Developed a responsive web app using Google OAuth, Redux and integration with a CRUD API.\n",
            "Full Stack Developer (MERN Stack, Mantine) February 2022 - March 2022\n",
            "anibin. (GitHub)\n",
            "Full Stack Developer (Vue.js, PostgreSQL, Django) December 2021 - January 2022\n",
            "spaceQuery (GitHub)\n",
            "------------------------------------------------------------------------------------------------------\n",
            "UI/UX Developer :\n",
            "49.098739326000214 %\n",
            "Database Developer :\n",
            "38.518337458372116 %\n",
            "Product Manager :\n",
            "37.52510130405426 %\n",
            "Cybersecurity Specialist :\n",
            "34.432594031095505 %\n"
          ]
        }
      ]
    }
  ]
}